{
 "cells": [
  {
   "cell_type": "code",
   "execution_count": 9,
   "metadata": {},
   "outputs": [],
   "source": [
    "using Plots\n",
    "using PyCall"
   ]
  },
  {
   "cell_type": "code",
   "execution_count": 103,
   "metadata": {},
   "outputs": [],
   "source": [
    "@pyimport pandas as pd\n",
    "@pyimport numpy as np\n",
    "@pyimport matplotlib.pyplot as plt"
   ]
  },
  {
   "cell_type": "code",
   "execution_count": 11,
   "metadata": {},
   "outputs": [],
   "source": [
    "using CSV"
   ]
  },
  {
   "cell_type": "code",
   "execution_count": 7,
   "metadata": {},
   "outputs": [
    {
     "data": {
      "text/plain": [
       "3-element Array{Int64,1}:\n",
       " 1\n",
       " 2\n",
       " 3"
      ]
     },
     "execution_count": 7,
     "metadata": {},
     "output_type": "execute_result"
    }
   ],
   "source": [
    "a=axes([3,2,1])[1]|> collect\n",
    "a"
   ]
  },
  {
   "cell_type": "code",
   "execution_count": 49,
   "metadata": {},
   "outputs": [
    {
     "data": {
      "text/plain": [
       "4-element Array{Float64,1}:\n",
       " 120.0\n",
       " 150.0\n",
       " 180.0\n",
       " 210.0"
      ]
     },
     "execution_count": 49,
     "metadata": {},
     "output_type": "execute_result"
    }
   ],
   "source": [
    "300 .* [0.4,0.5,0.6,0.7]"
   ]
  },
  {
   "cell_type": "code",
   "execution_count": 126,
   "metadata": {},
   "outputs": [],
   "source": [
    "#Samplig Rate-MF1\n",
    "x= [120 , 150 ,180 , 210]\n",
    "y = [[0.8660023600367116,0.8576607866435122 , 0.8321158008658007 , 0.8797463141421629 ],\n",
    "    [0.8660023600367116,0.8566607866435122 , 0.8357411337543788 , 0.8797463141421629 ]]\n",
    "plot(x,y,\n",
    "    xlabel = \"Sampling Rate /Hz\",\n",
    "    ylabel = \"MF1\",\n",
    "    label=[\"Raw Signal\",\"Raw Signal+Noise\"],\n",
    "    ylim=[0.7,1],\n",
    "    #line = (:circle),\n",
    "    fontfamily=(font(20)),\n",
    "    markershape=(:circle),\n",
    "    xtickfont = font(20),\n",
    "    ytickfont = font(20), \n",
    "    legendfontsize =(20),\n",
    "    titlefontsize =(20),\n",
    "    guidefontsize =(20),\n",
    "    #line = ((:dash)),\n",
    "    dpi=512,\n",
    "    )\n",
    "#plot!( fontfamily=(font(30)),)\n",
    "    #title=\"Sampling Rate-MF1\")\n",
    "savefig(\"Sampling_Rate_MF1\")"
   ]
  },
  {
   "cell_type": "code",
   "execution_count": 108,
   "metadata": {},
   "outputs": [
    {
     "ename": "ErrorException",
     "evalue": "There is no attribute named Axes",
     "output_type": "error",
     "traceback": [
      "There is no attribute named Axes",
      "",
      "Stacktrace:",
      " [1] error(::String) at ./error.jl:33",
      " [2] plotattr(::String) at /home/jjx/.julia/packages/Plots/l0VjU/src/plotattr.jl:40",
      " [3] top-level scope at In[108]:1"
     ]
    }
   ],
   "source": [
    "plotattr(\"Axes\")"
   ]
  },
  {
   "cell_type": "code",
   "execution_count": 146,
   "metadata": {},
   "outputs": [],
   "source": [
    "#Interval\n",
    "x=collect(512:256:1280)./300\n",
    "y=[[0.8588466027194819,0.8961476905243329,0.9283312470853888,0.9349158586871726],\n",
    "    [0.9005631958087753,0.9037970513137303,0.9192259815189256,0.9367703722574277],\n",
    "    [0.8749784195515409,0.9072420532156595,0.9173222772777834,0.9607850318957359],\n",
    "    [0.8717294017516405,0.9198308760947753,0.9207899305555556,0.9569987482512333],\n",
    "    [0.8588466027194819,0.9287109375,0.9226285108638049,0.9374523553018705]]\n",
    "styles = filter((s->begin\n",
    "                s in Plots.supported_styles()\n",
    "            end), [:solid, :dash, :dot, :dashdot, :rect])\n",
    "styles = reshape(styles, 1, length(styles))\n",
    "\n",
    "plot(x,y,label=([ \"0.3\",\"0.5\",\"0.7\",\"0.9\",\"All\"]),\n",
    "    xlabel = \"Time Interval Length /s\",\n",
    "    ylabel = \"MF1\",\n",
    "    xlim=[1.5,4.5],\n",
    "    dpi=512,\n",
    "    legend=(:bottomright),\n",
    "    linealpha = 1,\n",
    "    markershape=([:circle]),\n",
    "    line = (5,styles),\n",
    "    xtickfont = font(20),\n",
    "    ytickfont = font(20), \n",
    "    legendfontsize =(16),\n",
    "    titlefontsize =(20),\n",
    "    guidefontsize =(20),\n",
    "    )\n",
    "    #title=\"Time Interval Length-MF1\")\n",
    "savefig(\"Time_Interval_Length_MF1\")"
   ]
  },
  {
   "cell_type": "code",
   "execution_count": null,
   "metadata": {},
   "outputs": [],
   "source": []
  },
  {
   "cell_type": "code",
   "execution_count": 69,
   "metadata": {},
   "outputs": [
    {
     "data": {
      "text/plain": [
       "(Symbol[:solid :dash :dot :dashdot], string)"
      ]
     },
     "execution_count": 69,
     "metadata": {},
     "output_type": "execute_result"
    }
   ],
   "source": [
    "styles,string"
   ]
  },
  {
   "cell_type": "code",
   "execution_count": 81,
   "metadata": {},
   "outputs": [
    {
     "ename": "ErrorException",
     "evalue": "There is no attribute named plot",
     "output_type": "error",
     "traceback": [
      "There is no attribute named plot",
      "",
      "Stacktrace:",
      " [1] error(::String) at ./error.jl:33",
      " [2] plotattr(::String) at /home/jjx/.julia/packages/Plots/l0VjU/src/plotattr.jl:40",
      " [3] top-level scope at In[81]:1"
     ]
    }
   ],
   "source": [
    "plotattr(\"plot\")"
   ]
  },
  {
   "cell_type": "code",
   "execution_count": 34,
   "metadata": {},
   "outputs": [
    {
     "ename": "LoadError",
     "evalue": "syntax: extra token \"kde\" after end of expression",
     "output_type": "error",
     "traceback": [
      "syntax: extra token \"kde\" after end of expression",
      ""
     ]
    }
   ],
   "source": [
    "using Statistics"
   ]
  },
  {
   "cell_type": "code",
   "execution_count": 25,
   "metadata": {},
   "outputs": [
    {
     "name": "stdout",
     "output_type": "stream",
     "text": [
      "search: \u001b[0m\u001b[1mS\u001b[22m\u001b[0m\u001b[1mt\u001b[22m\u001b[0m\u001b[1ma\u001b[22m\u001b[0m\u001b[1mt\u001b[22m\u001b[0m\u001b[1mi\u001b[22m\u001b[0m\u001b[1ms\u001b[22m\u001b[0m\u001b[1mt\u001b[22m\u001b[0m\u001b[1mi\u001b[22m\u001b[0m\u001b[1mc\u001b[22m\u001b[0m\u001b[1ms\u001b[22m\n",
      "\n"
     ]
    },
    {
     "data": {
      "text/latex": [
       "\\begin{verbatim}\n",
       "Statistics\n",
       "\\end{verbatim}\n",
       "Standard library module for basic statistics functionality.\n",
       "\n"
      ],
      "text/markdown": [
       "```\n",
       "Statistics\n",
       "```\n",
       "\n",
       "Standard library module for basic statistics functionality.\n"
      ],
      "text/plain": [
       "\u001b[36m  Statistics\u001b[39m\n",
       "\n",
       "  Standard library module for basic statistics functionality."
      ]
     },
     "execution_count": 25,
     "metadata": {},
     "output_type": "execute_result"
    }
   ],
   "source": [
    "?Statistics"
   ]
  },
  {
   "cell_type": "code",
   "execution_count": 30,
   "metadata": {
    "collapsed": true
   },
   "outputs": [
    {
     "data": {
      "text/plain": [
       "322670×2 Array{Float32,2}:\n",
       "  1.52344    46.7626 \n",
       " -2.27344    45.613  \n",
       "  2.29688    53.3044 \n",
       " -0.820313   59.5762 \n",
       " -0.101563   77.6664 \n",
       " -0.472656   58.5732 \n",
       "  0.0351563  60.0327 \n",
       "  0.714844   55.7826 \n",
       "  4.16797    50.1903 \n",
       " -4.29688    54.2203 \n",
       "  0.175781   60.8995 \n",
       " -0.625      54.504  \n",
       "  0.605469   52.1354 \n",
       "  ⋮                  \n",
       "  0.234375   62.8881 \n",
       " -0.757813   58.462  \n",
       " -1.44922    56.8103 \n",
       "  0.917969   54.3078 \n",
       "  2.35547    52.8844 \n",
       " -0.523438   49.9965 \n",
       " -1.46875    58.533  \n",
       " -0.585938   62.7031 \n",
       "  0.148438    9.73764\n",
       "  0.835938   64.7109 \n",
       " -0.632813   64.5593 \n",
       " -0.0976563  59.9239 "
      ]
     },
     "execution_count": 30,
     "metadata": {},
     "output_type": "execute_result"
    }
   ],
   "source": [
    "mean102=np.load(\"102dots_ds_mean_std.npy\")"
   ]
  },
  {
   "cell_type": "code",
   "execution_count": 45,
   "metadata": {},
   "outputs": [],
   "source": [
    "s = pd.Series(mean102[:,1])\n",
    "ax = s.plot.kde()\n",
    "plt.show()"
   ]
  },
  {
   "cell_type": "code",
   "execution_count": 54,
   "metadata": {},
   "outputs": [
    {
     "ename": "ErrorException",
     "evalue": "type Array has no field plot",
     "output_type": "error",
     "traceback": [
      "type Array has no field plot",
      "",
      "Stacktrace:",
      " [1] getproperty(::Any, ::Symbol) at ./sysimg.jl:18",
      " [2] top-level scope at In[54]:1"
     ]
    }
   ],
   "source": [
    "plot(s.data.plot.kde())"
   ]
  },
  {
   "cell_type": "code",
   "execution_count": 58,
   "metadata": {},
   "outputs": [
    {
     "data": {
      "text/latex": [
       "\\begin{verbatim}\n",
       "PyObject(juliavar)\n",
       "\\end{verbatim}\n",
       "This converts a julia variable to a PyObject, which is a reference to a Python object. You can convert back to native julia types using \\texttt{convert(T, o::PyObject)}, or using \\texttt{PyAny(o)}.\n",
       "\n",
       "Given \\texttt{o::PyObject}, \\texttt{o[:attribute]} is equivalent to \\texttt{o.attribute} in Python, with automatic type conversion.\n",
       "\n",
       "Given \\texttt{o::PyObject}, \\texttt{get(o, key)} is equivalent to \\texttt{o[key]} in Python, with automatic type conversion.\n",
       "\n"
      ],
      "text/markdown": [
       "```\n",
       "PyObject(juliavar)\n",
       "```\n",
       "\n",
       "This converts a julia variable to a PyObject, which is a reference to a Python object. You can convert back to native julia types using `convert(T, o::PyObject)`, or using `PyAny(o)`.\n",
       "\n",
       "Given `o::PyObject`, `o[:attribute]` is equivalent to `o.attribute` in Python, with automatic type conversion.\n",
       "\n",
       "Given `o::PyObject`, `get(o, key)` is equivalent to `o[key]` in Python, with automatic type conversion.\n"
      ],
      "text/plain": [
       "\u001b[36m  PyObject(juliavar)\u001b[39m\n",
       "\n",
       "  This converts a julia variable to a PyObject, which is a reference to a\n",
       "  Python object. You can convert back to native julia types using \u001b[36mconvert(T,\n",
       "  o::PyObject)\u001b[39m, or using \u001b[36mPyAny(o)\u001b[39m.\n",
       "\n",
       "  Given \u001b[36mo::PyObject\u001b[39m, \u001b[36mo[:attribute]\u001b[39m is equivalent to \u001b[36mo.attribute\u001b[39m in Python,\n",
       "  with automatic type conversion.\n",
       "\n",
       "  Given \u001b[36mo::PyObject\u001b[39m, \u001b[36mget(o, key)\u001b[39m is equivalent to \u001b[36mo[key]\u001b[39m in Python, with\n",
       "  automatic type conversion."
      ]
     },
     "execution_count": 58,
     "metadata": {},
     "output_type": "execute_result"
    }
   ],
   "source": [
    "?pd.Series(mean102[:,1]).plot.kde()"
   ]
  },
  {
   "cell_type": "code",
   "execution_count": 48,
   "metadata": {},
   "outputs": [
    {
     "name": "stdout",
     "output_type": "stream",
     "text": [
      "PyObject <matplotlib.axes._subplots.AxesSubplot object at 0x7f60699d5ac8>"
     ]
    }
   ],
   "source": [
    "show(ax)"
   ]
  },
  {
   "cell_type": "code",
   "execution_count": 60,
   "metadata": {},
   "outputs": [
    {
     "ename": "ArgumentError",
     "evalue": "ArgumentError: Package Distributions not found in current path:\n- Run `import Pkg; Pkg.add(\"Distributions\")` to install the Distributions package.\n",
     "output_type": "error",
     "traceback": [
      "ArgumentError: Package Distributions not found in current path:\n- Run `import Pkg; Pkg.add(\"Distributions\")` to install the Distributions package.\n",
      "",
      "Stacktrace:",
      " [1] require(::Module, ::Symbol) at ./loading.jl:823",
      " [2] top-level scope at In[60]:1"
     ]
    }
   ],
   "source": [
    "using Distributions"
   ]
  },
  {
   "cell_type": "code",
   "execution_count": null,
   "metadata": {},
   "outputs": [],
   "source": []
  }
 ],
 "metadata": {
  "kernelspec": {
   "display_name": "Julia 1.1.1",
   "language": "julia",
   "name": "julia-1.1"
  },
  "language_info": {
   "file_extension": ".jl",
   "mimetype": "application/julia",
   "name": "julia",
   "version": "1.1.1"
  }
 },
 "nbformat": 4,
 "nbformat_minor": 2
}
